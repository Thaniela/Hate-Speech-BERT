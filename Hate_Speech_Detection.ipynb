{
  "cells": [
    {
      "cell_type": "markdown",
      "metadata": {
        "id": "rAYvvpZebClr"
      },
      "source": [
        "# Installing Libraries and Dependencies\n"
      ]
    },
    {
      "cell_type": "code",
      "execution_count": null,
      "metadata": {
        "id": "CDwQC55dc4K_"
      },
      "outputs": [],
      "source": [
        "import torch\n",
        "import torch.nn as nn\n",
        "from torch.utils.data import Dataset, DataLoader\n",
        "from transformers import AutoTokenizer, AutoModel, get_linear_schedule_with_warmup\n",
        "from torch.optim import AdamW\n",
        "from sklearn.model_selection import train_test_split\n",
        "from sklearn.metrics import accuracy_score, classification_report\n",
        "import pandas as pd\n",
        "import numpy as np\n",
        "import re"
      ]
    },
    {
      "cell_type": "code",
      "execution_count": null,
      "metadata": {
        "id": "0ZrprPtqeqS5"
      },
      "outputs": [],
      "source": [
        "class Config:\n",
        "    MODEL_NAME = \"bert-base-multilingual-cased\"\n",
        "    BATCH_SIZE = 16\n",
        "    LEARNING_RATE = 2e-5\n",
        "    EPOCHS = 4\n",
        "    MAX_LENGTH = 128 # Max token length for sentences\n",
        "    RANDOM_STATE = 42\n",
        "\n",
        "# Set random seed for reproducibility\n",
        "np.random.seed(Config.RANDOM_STATE)\n",
        "torch.manual_seed(Config.RANDOM_STATE)\n",
        "torch.cuda.manual_seed_all(Config.RANDOM_STATE)\n",
        "\n",
        "# Set device (use GPU if available)\n",
        "device = torch.device(\"cuda\" if torch.cuda.is_available() else \"cpu\")"
      ]
    },
    {
      "cell_type": "markdown",
      "metadata": {
        "id": "gCaeh_9Mem4J"
      },
      "source": [
        "# Load and Split the Dataset"
      ]
    },
    {
      "cell_type": "code",
      "execution_count": null,
      "metadata": {
        "id": "7gFgdAKBe1qx"
      },
      "outputs": [],
      "source": [
        "# IMPORTANT: Replace \"Dataset - Sheet1.csv\" with the actual path to your file.\n",
        "try:\n",
        "    df = pd.read_csv(\"/content/Dataset - Sheet1.csv\")\n",
        "    print(\"Dataset loaded successfully. Displaying first 5 rows:\")\n",
        "    print(df.head())\n",
        "except FileNotFoundError:\n",
        "    print(\"Error: The file 'Dataset - Sheet1.csv' was not found.\")\n",
        "    print(\"Please update the path to point to your actual CSV file and run the script again.\")\n",
        "    exit()"
      ]
    },
    {
      "cell_type": "code",
      "execution_count": null,
      "metadata": {
        "id": "PXbWHIKzfOsr"
      },
      "outputs": [],
      "source": [
        "# Ensure no missing values in critical columns\n",
        "df = df.dropna(subset=['Text', 'Label']).reset_index(drop=True)\n",
        "# Ensure labels are integers\n",
        "df['Label'] = df['Label'].astype(int)\n",
        "\n",
        "stopwords_tl = {'ang', 'ng', 'sa', 'na', 'at', 'ay', 'ni', 'kay'}\n",
        "def preprocess_text(text):\n",
        "    text = str(text).lower()\n",
        "    text = re.sub(r'http\\S+|www\\S+', '', text)\n",
        "    text = re.sub(r'[^a-z\\s]', '', text)\n",
        "    tokens = text.split()\n",
        "    filtered_tokens = [word for word in tokens if word not in stopwords_tl]\n",
        "    return ' '.join(filtered_tokens)\n",
        "\n",
        "df['clean_text'] = df['Text'].apply(preprocess_text)"
      ]
    },
    {
      "cell_type": "code",
      "execution_count": null,
      "metadata": {
        "id": "EuOJaJrzgIQ1"
      },
      "outputs": [],
      "source": [
        "train_val_df, test_df = train_test_split(\n",
        "    df,\n",
        "    test_size=0.30,\n",
        "    random_state=Config.RANDOM_STATE,\n",
        "    stratify=df['Label']\n",
        ")\n",
        "\n",
        "val_df, train_df = train_test_split(\n",
        "    train_val_df,\n",
        "    test_size=0.8571,\n",
        "    random_state=Config.RANDOM_STATE,\n",
        "    stratify=train_val_df['Label']\n",
        ")\n",
        "\n",
        "# Print the final split sizes\n",
        "print(f\"Training set size: {len(train_df)} ({len(train_df)/len(df):.0%})\")\n",
        "print(f\"Test set size: {len(test_df)} ({len(test_df)/len(df):.0%})\")\n",
        "print(f\"Validation set size: {len(val_df)} ({len(val_df)/len(df):.0%})\")"
      ]
    },
    {
      "cell_type": "code",
      "execution_count": null,
      "metadata": {
        "id": "m2MLKBXRhK1v"
      },
      "outputs": [],
      "source": [
        "tokenizer = AutoTokenizer.from_pretrained(Config.MODEL_NAME)\n",
        "\n",
        "class HateSpeechDataset(Dataset):\n",
        "    def __init__(self, texts, labels, tokenizer, max_len):\n",
        "        self.texts = texts\n",
        "        self.labels = labels\n",
        "        self.tokenizer = tokenizer\n",
        "        self.max_len = max_len\n",
        "    def __len__(self):\n",
        "        return len(self.texts)\n",
        "    def __getitem__(self, item):\n",
        "        text = str(self.texts[item])\n",
        "        label = self.labels[item]\n",
        "        encoding = self.tokenizer.encode_plus(\n",
        "            text, add_special_tokens=True, max_length=self.max_len,\n",
        "            return_token_type_ids=False, padding='max_length',\n",
        "            truncation=True, return_attention_mask=True, return_tensors='pt',\n",
        "        )\n",
        "        return {\n",
        "            'text': text, 'input_ids': encoding['input_ids'].flatten(),\n",
        "            'attention_mask': encoding['attention_mask'].flatten(),\n",
        "            'labels': torch.tensor(label, dtype=torch.long)\n",
        "        }\n",
        "\n",
        "def create_data_loader(df, tokenizer, max_len, batch_size):\n",
        "    ds = HateSpeechDataset(texts=df.clean_text.to_numpy(), labels=df.Label.to_numpy(), tokenizer=tokenizer, max_len=max_len)\n",
        "    return DataLoader(ds, batch_size=batch_size, num_workers=2)\n",
        "\n",
        "train_data_loader = create_data_loader(train_df, tokenizer, Config.MAX_LENGTH, Config.BATCH_SIZE)\n",
        "val_data_loader = create_data_loader(val_df, tokenizer, Config.MAX_LENGTH, Config.BATCH_SIZE)\n",
        "test_data_loader = create_data_loader(test_df, tokenizer, Config.MAX_LENGTH, Config.BATCH_SIZE)\n"
      ]
    },
    {
      "cell_type": "code",
      "execution_count": null,
      "metadata": {
        "id": "ZTtdGG81hbyK"
      },
      "outputs": [],
      "source": [
        "class BertClassifier(nn.Module):\n",
        "    def __init__(self, n_classes):\n",
        "        super(BertClassifier, self).__init__()\n",
        "        self.bert = AutoModel.from_pretrained(Config.MODEL_NAME)\n",
        "        self.drop = nn.Dropout(p=0.3)\n",
        "        self.out = nn.Linear(self.bert.config.hidden_size, n_classes)\n",
        "    def forward(self, input_ids, attention_mask):\n",
        "        outputs = self.bert(input_ids=input_ids, attention_mask=attention_mask)\n",
        "        pooled_output = outputs.pooler_output\n",
        "        output = self.drop(pooled_output)\n",
        "        return self.out(output)\n",
        "\n",
        "model = BertClassifier(n_classes=2).to(device)"
      ]
    },
    {
      "cell_type": "code",
      "execution_count": null,
      "metadata": {
        "id": "6_Kiu5nEhtt8"
      },
      "outputs": [],
      "source": [
        "def train_epoch(model, data_loader, loss_fn, optimizer, device, scheduler):\n",
        "    model = model.train()\n",
        "    losses = []\n",
        "    total_predictions = 0\n",
        "    correct_predictions = 0\n",
        "\n",
        "    print(\"Starting training epoch...\")\n",
        "    for d in data_loader:\n",
        "        input_ids = d[\"input_ids\"].to(device)\n",
        "        attention_mask = d[\"attention_mask\"].to(device)\n",
        "        labels = d[\"labels\"].to(device)\n",
        "\n",
        "        outputs = model(input_ids=input_ids, attention_mask=attention_mask)\n",
        "        _, preds = torch.max(outputs, dim=1)\n",
        "        loss = loss_fn(outputs, labels)\n",
        "\n",
        "        total_predictions += len(labels)\n",
        "        correct_predictions += torch.sum(preds == labels)\n",
        "        losses.append(loss.item())\n",
        "\n",
        "        loss.backward()\n",
        "        nn.utils.clip_grad_norm_(model.parameters(), max_norm=1.0)\n",
        "        optimizer.step()\n",
        "        scheduler.step()\n",
        "        optimizer.zero_grad()\n",
        "\n",
        "    print(\"Training epoch finished.\")\n",
        "    accuracy = correct_predictions.double() / total_predictions\n",
        "    return accuracy, np.mean(losses)\n",
        "\n",
        "def eval_model(model, data_loader, loss_fn, device):\n",
        "    model = model.eval()\n",
        "    losses = []\n",
        "    all_labels = []\n",
        "    all_preds = []\n",
        "\n",
        "    print(\"Starting evaluation...\")\n",
        "    with torch.no_grad():\n",
        "        for d in data_loader:\n",
        "            input_ids = d[\"input_ids\"].to(device)\n",
        "            attention_mask = d[\"attention_mask\"].to(device)\n",
        "            labels = d[\"labels\"].to(device)\n",
        "\n",
        "            outputs = model(input_ids=input_ids, attention_mask=attention_mask)\n",
        "            _, preds = torch.max(outputs, dim=1)\n",
        "            loss = loss_fn(outputs, labels)\n",
        "\n",
        "            losses.append(loss.item())\n",
        "            all_labels.extend(labels.cpu().numpy())\n",
        "            all_preds.extend(preds.cpu().numpy())\n",
        "\n",
        "    print(\"Evaluation finished.\")\n",
        "    report = classification_report(all_labels, all_preds, target_names=['Non-Hate', 'Hate'], output_dict=True, zero_division=0)\n",
        "    return np.mean(losses), report\n"
      ]
    },
    {
      "cell_type": "markdown",
      "source": [
        "# Train the Model"
      ],
      "metadata": {
        "id": "AEKcqkg-rlAa"
      }
    },
    {
      "cell_type": "code",
      "execution_count": null,
      "metadata": {
        "id": "oIyWuoLThvs7"
      },
      "outputs": [],
      "source": [
        "optimizer = AdamW(model.parameters(), lr=Config.LEARNING_RATE)\n",
        "total_steps = len(train_data_loader) * Config.EPOCHS\n",
        "scheduler = get_linear_schedule_with_warmup(optimizer, num_warmup_steps=0, num_training_steps=total_steps)\n",
        "loss_fn = nn.CrossEntropyLoss().to(device)\n",
        "\n",
        "history = {'train_acc': [], 'train_loss': [], 'val_acc': [], 'val_loss': [], 'val_f1': []}\n",
        "best_accuracy = 0\n",
        "\n",
        "for epoch in range(Config.EPOCHS):\n",
        "    print(f'\\nEpoch {epoch + 1}/{Config.EPOCHS}')\n",
        "    print('-' * 20)\n",
        "\n",
        "    train_acc, train_loss = train_epoch(model, train_data_loader, loss_fn, optimizer, device, scheduler)\n",
        "    print(f'Train -> Loss: {train_loss:.4f} | Accuracy: {train_acc:.4f}')\n",
        "\n",
        "    val_loss, val_report = eval_model(model, val_data_loader, loss_fn, device)\n",
        "    val_acc = val_report['accuracy']\n",
        "    val_f1 = val_report['Hate']['f1-score']\n",
        "    print(f'Validation -> Loss: {val_loss:.4f} | Accuracy: {val_acc:.4f} | F1 (Hate): {val_f1:.4f}')\n",
        "\n",
        "    history['train_acc'].append(train_acc)\n",
        "    history['train_loss'].append(train_loss)\n",
        "    history['val_acc'].append(val_acc)\n",
        "    history['val_loss'].append(val_loss)\n",
        "    history['val_f1'].append(val_f1)\n",
        "\n",
        "    if val_acc > best_accuracy:\n",
        "        print(\"Validation accuracy improved. Saving model...\")\n",
        "        torch.save(model.state_dict(), 'best_model_state.bin')\n",
        "        best_accuracy = val_acc"
      ]
    },
    {
      "cell_type": "code",
      "execution_count": null,
      "metadata": {
        "id": "dmFcVGaEiQ1F"
      },
      "outputs": [],
      "source": [
        "model.load_state_dict(torch.load('best_model_state.bin'))\n",
        "\n",
        "# Generate the final classification report string\n",
        "all_labels_test = []\n",
        "all_preds_test = []\n",
        "with torch.no_grad():\n",
        "    for d in test_data_loader:\n",
        "        outputs = model(input_ids=d[\"input_ids\"].to(device), attention_mask=d[\"attention_mask\"].to(device))\n",
        "        _, preds = torch.max(outputs, dim=1)\n",
        "        all_labels_test.extend(d[\"labels\"].cpu().numpy())\n",
        "        all_preds_test.extend(preds.cpu().numpy())\n",
        "\n",
        "final_report_str = classification_report(all_labels_test, all_preds_test, target_names=['Non-Hate', 'Hate'])\n",
        "print(\"\\nFinal Test Set Performance Report:\")\n",
        "print(final_report_str)"
      ]
    },
    {
      "cell_type": "markdown",
      "source": [
        "# Inference"
      ],
      "metadata": {
        "id": "H-zsV6ROsDAF"
      }
    },
    {
      "cell_type": "code",
      "source": [
        "# Load the best model checkpoint\n",
        "inference_model = BertClassifier(n_classes=2)\n",
        "inference_model.load_state_dict(torch.load('best_model_state.bin'))\n",
        "inference_model = inference_model.to(device)\n",
        "inference_model.eval()\n",
        "\n",
        "def predict_hate_speech(text, model, tokenizer, device, max_len=128):\n",
        "\n",
        "    cleaned_text = preprocess_text(text)\n",
        "\n",
        "    encoding = tokenizer.encode_plus(\n",
        "        cleaned_text,\n",
        "        add_special_tokens=True,\n",
        "        max_length=max_len,\n",
        "        return_token_type_ids=False,\n",
        "        padding='max_length',\n",
        "        truncation=True,\n",
        "        return_attention_mask=True,\n",
        "        return_tensors='pt',\n",
        "    )\n",
        "\n",
        "    input_ids = encoding['input_ids'].to(device)\n",
        "    attention_mask = encoding['attention_mask'].to(device)\n",
        "\n",
        "    with torch.no_grad():\n",
        "        outputs = model(input_ids=input_ids, attention_mask=attention_mask)\n",
        "        _, prediction = torch.max(outputs, dim=1)\n",
        "\n",
        "    class_names = ['Non-Hate Speech', 'Hate Speech']\n",
        "    return class_names[prediction.item()]\n",
        "\n",
        "# Start inference loop\n",
        "print(\"\\nModel is ready. Type a sentence to classify it, or type 'quit' to exit.\")\n",
        "\n",
        "while True:\n",
        "    user_input = input(\"Enter a sentence (or type 'quit' to exit): \")\n",
        "    if user_input.lower().strip() == 'quit':\n",
        "        print(\"Exiting inference mode.\")\n",
        "        break\n",
        "\n",
        "    prediction = predict_hate_speech(user_input, inference_model, tokenizer, device, Config.MAX_LENGTH)\n",
        "    print(f\"\\nInput Text: {user_input}\")\n",
        "    print(f\"Prediction: {prediction}\")\n",
        "    print(\"-\" * 40)"
      ],
      "metadata": {
        "id": "HDZaolVXr4d1"
      },
      "execution_count": null,
      "outputs": []
    }
  ],
  "metadata": {
    "colab": {
      "provenance": [],
      "gpuType": "T4",
      "toc_visible": true
    },
    "kernelspec": {
      "display_name": "Python 3",
      "name": "python3"
    },
    "language_info": {
      "name": "python"
    },
    "accelerator": "GPU"
  },
  "nbformat": 4,
  "nbformat_minor": 0
}